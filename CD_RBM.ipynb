{
 "cells": [
  {
   "cell_type": "code",
   "execution_count": 1,
   "metadata": {},
   "outputs": [],
   "source": [
    "import numpy as np\n",
    "from scipy.special import expit"
   ]
  },
  {
   "cell_type": "code",
   "execution_count": 2,
   "metadata": {},
   "outputs": [],
   "source": [
    "import matplotlib.pyplot as plt"
   ]
  },
  {
   "cell_type": "code",
   "execution_count": 3,
   "metadata": {},
   "outputs": [],
   "source": [
    "class RBM:\n",
    "    \n",
    "    def __init__(self,n_visible,n_hidden, particles = 30, beta=1,precision=64):\n",
    "        if precision == 64:\n",
    "            self.np_type = np.float64\n",
    "        elif precision == 32:\n",
    "            self.np_type = np.float32\n",
    "        self.n_visible = n_visible\n",
    "        self.n_hidden = n_hidden\n",
    "        self.particles = particles\n",
    "        # initialize weights\n",
    "        self.W = np.random.normal(loc = 0, scale = 0.01, size = (n_visible, n_hidden)).astype(self.np_type)\n",
    "        # initialize bias for visible layer\n",
    "        self.b = np.zeros(shape = (1,n_visible), dtype=self.np_type)\n",
    "        # initialize bias for hidden layer\n",
    "        self.c = np.zeros(shape = (1,n_hidden), dtype=self.np_type)\n",
    "        \n",
    "        self.beta = beta\n",
    "        self.N = np.random.randint(low=0, high=2, size=(particles,self.n_visible)).astype(int)\n",
    "        self.global_step = 0\n",
    "        \n",
    "    def getParameters(self):\n",
    "        params = {}\n",
    "        params['W'] = self.W\n",
    "        params['b'] = self.b\n",
    "        params['c'] = self.c\n",
    "        return params\n",
    "    \n",
    "    def sample(self, iterations = 100, size = 1):\n",
    "        return self.sampleFrom(np.random.randint(low=0, high=2, size=(size,self.n_visible)), iterations = iterations, size = size)\n",
    "\n",
    "    #\n",
    "    # Sample from the learned distribution, starting at some\n",
    "    # initial value\n",
    "    #\n",
    "    def sampleFrom(self, initial, iterations = 100, size = 1):\n",
    "        V = initial.astype(int)\n",
    "        for i in range(iterations):\n",
    "            V, _ = self.sampleGibbs(V, size = size)\n",
    "            if (iterations > 1000):\n",
    "                if 0 == i % 1000:\n",
    "                    print(\"Sampling iteration \", i)\n",
    "        return V\n",
    "        \n",
    "    def sampleGibbs(self, V, size = 1):\n",
    "        \"\"\"\n",
    "        Run one-step Gibbs sampling\n",
    "        \"\"\"\n",
    "        \n",
    "        # 1. Sample hidden units from visible units\n",
    "        # compute expected value of hidden units given visible units\n",
    "        E_h = expit(self.beta*(V.astype(int)@self.W + self.c), dtype=self.np_type)\n",
    "        # random ramples from uniform distribution U(0,1)\n",
    "        U = np.random.random_sample(size=(size, self.n_hidden)).astype(self.np_type)\n",
    "        # hidden units\n",
    "        H = (U <= E_h).astype(int)\n",
    "        \n",
    "        E_v = expit(self.beta*(H@np.transpose(self.W) + self.b), dtype=self.np_type)\n",
    "        U = np.random.random_sample(size=(size, self.n_visible)).astype(self.np_type)\n",
    "        Vb = (U <= E_v).astype(int)\n",
    "        \n",
    "        return Vb, E_h\n",
    "        \n",
    "        \n",
    "    def train_CD(self, V, iterations = 100, epochs = 1, step = 0.01, weigth_decay=0):\n",
    "        \n",
    "        batch_size = V.shape[0]\n",
    "        if V.shape[1] != self.n_visible:\n",
    "            print(\"Shape of training data\", V.shape)\n",
    "            raise ValueError(\"Data does not match number of visible units.\")\n",
    "            \n",
    "        # logs\n",
    "        dw = []\n",
    "        errors = []\n",
    "        \n",
    "        for _ in range(iterations):\n",
    "            # run one Gibss sampling and obtain new values\n",
    "            # for visible units and previous expectation values\n",
    "            Vb, E = self.sampleGibbs(V, batch_size)\n",
    "            \n",
    "            # Calculate new expectation values\n",
    "            Eb = expit(self.beta*(Vb@self.W + self.c), dtype=self.np_type)\n",
    "            \n",
    "            # Calculate contributions of positive and negative phase\n",
    "            # and update weights and bias\n",
    "            \n",
    "            pos = np.tensordot(V,E,axes=((0),(0))).astype(self.np_type) # data\n",
    "            neg = np.tensordot(Vb, Eb, axes=((0),(0))).astype(self.np_type) # model\n",
    "            \n",
    "            # weight update\n",
    "            dW = step*self.beta*(pos -neg) / float(batch_size)\n",
    "            self.W += dW\n",
    "            # bias update\n",
    "            self.b += step*self.beta*np.sum(V - Vb, 0) / float(batch_size)\n",
    "            self.c += step*self.beta*np.sum(E - Eb, 0) / float(batch_size)\n",
    "            \n",
    "            # update logs\n",
    "            dw.append(np.linalg.norm(dW))\n",
    "            recon_error = np.linalg.norm(V-Vb)\n",
    "            errors.append(recon_error)\n",
    "            if 0 == (self.global_step % 500):\n",
    "                print(\"Iteration \", self.global_step,\" - reconstruction error is now\", recon_error)\n",
    "            self.global_step +=1 \n",
    "        return dw, errors\n",
    "    \n",
    "    def train_PCD(self, V, iterations=10000, epochs=1, step=0.001, weight_decay=0.0001):\n",
    "        #check shape\n",
    "        batch_size = V.shape[0]\n",
    "        if (V.shape[1] != self.n_visible):\n",
    "            print(\"Shape of training data\", V.shape)\n",
    "            raise ValueError(\"Data does not match number of visible units\")\n",
    "        initial_step_size = step\n",
    "        \n",
    "        # logs\n",
    "        dw = []\n",
    "        errors = []\n",
    "        \n",
    "        for i in range(iterations):\n",
    "            # update step size\n",
    "            step = initial_step_size * (1.0-(1.0*self.global_step)/(1.0*iterations*epochs))\n",
    "            # compute negative phase\n",
    "            self.N, _ = self.sampleGibbs(self.N, size=self.particles)\n",
    "            # use this to caculate the negative phase\n",
    "            Eb = expit(self.beta*(self.N@self.W + self.c), dtype=self.np_type)\n",
    "            neg = np.tensordot(self.N,Eb,axes=((0),(0))).astype(self.np_type)\n",
    "            # compute the positive phase\n",
    "            E_h = expit(self.beta*(V@self.W + self.c))\n",
    "            pos = np.tensordot(V, E_h, axes=((0),(0)))\n",
    "            # update weights\n",
    "            dW = step*self.beta*(pos -neg) / float(batch_size) - step*weight_decay*self.W / float(batch_size)\n",
    "            self.W += dW\n",
    "            self.b += step*self.beta*np.sum(V - self.N, 0) / float(batch_size) \n",
    "            self.c += step*self.beta*np.sum(E_h - Eb, 0) / float(batch_size) \n",
    "            \n",
    "            if 0 == (self.global_step % 50):\n",
    "                Vb = self.sampleFrom(initial = V, size=batch_size, iterations = 1)\n",
    "                recon_error = np.linalg.norm(V - Vb) \n",
    "                errors.append(recon_error)\n",
    "                if 0 == (self.global_step % 500):\n",
    "                    print(\"Iteration \",self.global_step,\"recon error is \", recon_error)\n",
    "            self.global_step +=1\n",
    "        return dw, errors\n",
    "            "
   ]
  },
  {
   "cell_type": "code",
   "execution_count": 7,
   "metadata": {},
   "outputs": [],
   "source": [
    "from mnist import MNIST\n",
    "mndata = MNIST('./')\n",
    "x_train, y_train = mndata.load_training()\n",
    "x_test, y_test = mndata.load_testing()"
   ]
  },
  {
   "cell_type": "code",
   "execution_count": 8,
   "metadata": {},
   "outputs": [],
   "source": [
    "x_train = np.asarray(x_train).astype(np.float32)\n",
    "y_train = np.asarray(y_train).astype(np.int32)\n",
    "x_test = np.asarray(x_test).astype(np.float32)\n",
    "y_test = np.asarray(y_test).astype(np.int32)"
   ]
  },
  {
   "cell_type": "code",
   "execution_count": 59,
   "metadata": {},
   "outputs": [],
   "source": [
    "rbm = RBM(784,784)\n",
    "thr = 100\n",
    "rbm.particles = thr"
   ]
  },
  {
   "cell_type": "code",
   "execution_count": 76,
   "metadata": {},
   "outputs": [],
   "source": [
    "V = np.zeros((thr,784))\n",
    "label = 0\n",
    "num = 0\n",
    "\n",
    "for i in range(len(x_train)):\n",
    "    if y_train[i] == label:\n",
    "        V[num,:] = x_train[i]/255\n",
    "        num += 1\n",
    "    if num >= thr:\n",
    "        break"
   ]
  },
  {
   "cell_type": "code",
   "execution_count": 61,
   "metadata": {
    "scrolled": false
   },
   "outputs": [
    {
     "name": "stdout",
     "output_type": "stream",
     "text": [
      "Iteration  0  - reconstruction error is now 195.7442066573728\n"
     ]
    }
   ],
   "source": [
    "dw, errors = rbm.train_CD(V=V)"
   ]
  },
  {
   "cell_type": "code",
   "execution_count": 69,
   "metadata": {
    "scrolled": true
   },
   "outputs": [
    {
     "data": {
      "image/png": "[encoded data removed]",
      "text/plain": [
       "<Figure size 432x288 with 1 Axes>"
      ]
     },
     "metadata": {
      "needs_background": "light"
     },
     "output_type": "display_data"
    }
   ],
   "source": [
    "sample = rbm.sample()\n",
    "fig = plt.figure(frameon=False)\n",
    "ax = plt.Axes(fig, [0., 0., 1., 1.])\n",
    "ax.set_axis_off()\n",
    "fig.add_axes(ax)\n",
    "plt.imshow(sample.reshape([28,28]))\n",
    "fig.savefig(\"out1.png\")"
   ]
  },
  {
   "cell_type": "code",
   "execution_count": 77,
   "metadata": {},
   "outputs": [],
   "source": [
    "temp = V[1,:].reshape([28,28])"
   ]
  },
  {
   "cell_type": "code",
   "execution_count": 78,
   "metadata": {
    "scrolled": true
   },
   "outputs": [
    {
     "data": {
      "image/png": "[encoded data removed]",
      "text/plain": [
       "<Figure size 432x288 with 1 Axes>"
      ]
     },
     "metadata": {
      "needs_background": "light"
     },
     "output_type": "display_data"
    }
   ],
   "source": [
    "fig = plt.figure(frameon=False)\n",
    "ax = plt.Axes(fig, [0., 0., 1., 1.])\n",
    "ax.set_axis_off()\n",
    "fig.add_axes(ax)\n",
    "plt.imshow(temp)\n",
    "fig.savefig(\"data0.png\")"
   ]
  },
  {
   "cell_type": "code",
   "execution_count": null,
   "metadata": {},
   "outputs": [],
   "source": []
  }
 ],
 "metadata": {
  "kernelspec": {
   "display_name": "Python 3",
   "language": "python",
   "name": "python3"
  },
  "language_info": {
   "codemirror_mode": {
    "name": "ipython",
    "version": 3
   },
   "file_extension": ".py",
   "mimetype": "text/x-python",
   "name": "python",
   "nbconvert_exporter": "python",
   "pygments_lexer": "ipython3",
   "version": "3.6.8"
  }
 },
 "nbformat": 4,
 "nbformat_minor": 2
}
